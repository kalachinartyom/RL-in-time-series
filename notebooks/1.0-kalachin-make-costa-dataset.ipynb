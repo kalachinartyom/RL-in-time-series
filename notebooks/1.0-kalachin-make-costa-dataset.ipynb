{
 "cells": [
  {
   "cell_type": "code",
   "execution_count": 1,
   "metadata": {},
   "outputs": [],
   "source": [
    "# Import packages\n",
    "import numpy as np\n",
    "import pandas as pd\n",
    "\n",
    "pd.set_option(\"display.max_rows\", 500)\n",
    "pd.options.display.max_colwidth = 2500\n",
    "pd.set_option(\"display.max_columns\", None)"
   ]
  },
  {
   "cell_type": "markdown",
   "metadata": {},
   "source": [
    "# Dataset"
   ]
  },
  {
   "cell_type": "code",
   "execution_count": 2,
   "metadata": {},
   "outputs": [
    {
     "name": "stdout",
     "output_type": "stream",
     "text": [
      "(430, 10)\n",
      "(430, 3)\n"
     ]
    },
    {
     "data": {
      "text/html": [
       "<div>\n",
       "<style scoped>\n",
       "    .dataframe tbody tr th:only-of-type {\n",
       "        vertical-align: middle;\n",
       "    }\n",
       "\n",
       "    .dataframe tbody tr th {\n",
       "        vertical-align: top;\n",
       "    }\n",
       "\n",
       "    .dataframe thead th {\n",
       "        text-align: right;\n",
       "    }\n",
       "</style>\n",
       "<table border=\"1\" class=\"dataframe\">\n",
       "  <thead>\n",
       "    <tr style=\"text-align: right;\">\n",
       "      <th></th>\n",
       "      <th>cat</th>\n",
       "      <th>x</th>\n",
       "      <th>y</th>\n",
       "    </tr>\n",
       "  </thead>\n",
       "  <tbody>\n",
       "    <tr>\n",
       "      <th>0</th>\n",
       "      <td>Inj-1</td>\n",
       "      <td>49374.998177</td>\n",
       "      <td>75374.998596</td>\n",
       "    </tr>\n",
       "    <tr>\n",
       "      <th>1</th>\n",
       "      <td>Inj-2</td>\n",
       "      <td>49374.998177</td>\n",
       "      <td>77874.996691</td>\n",
       "    </tr>\n",
       "    <tr>\n",
       "      <th>2</th>\n",
       "      <td>Inj-3</td>\n",
       "      <td>54374.999129</td>\n",
       "      <td>75374.998596</td>\n",
       "    </tr>\n",
       "    <tr>\n",
       "      <th>3</th>\n",
       "      <td>Inj-4</td>\n",
       "      <td>54374.999129</td>\n",
       "      <td>77874.996691</td>\n",
       "    </tr>\n",
       "    <tr>\n",
       "      <th>4</th>\n",
       "      <td>Inj-5</td>\n",
       "      <td>44374.998415</td>\n",
       "      <td>75374.998596</td>\n",
       "    </tr>\n",
       "  </tbody>\n",
       "</table>\n",
       "</div>"
      ],
      "text/plain": [
       "     cat             x             y\n",
       "0  Inj-1  49374.998177  75374.998596\n",
       "1  Inj-2  49374.998177  77874.996691\n",
       "2  Inj-3  54374.999129  75374.998596\n",
       "3  Inj-4  54374.999129  77874.996691\n",
       "4  Inj-5  44374.998415  75374.998596"
      ]
     },
     "execution_count": 2,
     "metadata": {},
     "output_type": "execute_result"
    }
   ],
   "source": [
    "### create coords dataframe\n",
    "\n",
    "path = \"data/raw/COSTA well_heads.csv\"\n",
    "data = pd.read_csv(path)\n",
    "print(data.shape)\n",
    "\n",
    "data.drop(\n",
    "    columns=[\"Unnamed: 0\", \"Z_top\", \"Z_bottom\", \"YEAR\", \"KB\", \"TD\", \"TYPE\"],\n",
    "    inplace=True,\n",
    ")\n",
    "\n",
    "rename_dict = {\"WELLNAME\": \"cat\", \"X\": \"x\", \"Y\": \"y\"}\n",
    "data.rename(columns=rename_dict, inplace=True)\n",
    "\n",
    "print(data.shape)\n",
    "data.head()"
   ]
  },
  {
   "cell_type": "code",
   "execution_count": 3,
   "metadata": {},
   "outputs": [
    {
     "name": "stdout",
     "output_type": "stream",
     "text": [
      "(42, 5)\n",
      "(42, 3)\n"
     ]
    },
    {
     "data": {
      "text/html": [
       "<div>\n",
       "<style scoped>\n",
       "    .dataframe tbody tr th:only-of-type {\n",
       "        vertical-align: middle;\n",
       "    }\n",
       "\n",
       "    .dataframe tbody tr th {\n",
       "        vertical-align: top;\n",
       "    }\n",
       "\n",
       "    .dataframe thead th {\n",
       "        text-align: right;\n",
       "    }\n",
       "</style>\n",
       "<table border=\"1\" class=\"dataframe\">\n",
       "  <thead>\n",
       "    <tr style=\"text-align: right;\">\n",
       "      <th></th>\n",
       "      <th>cat</th>\n",
       "      <th>x</th>\n",
       "      <th>y</th>\n",
       "    </tr>\n",
       "  </thead>\n",
       "  <tbody>\n",
       "    <tr>\n",
       "      <th>0</th>\n",
       "      <td>HW-1</td>\n",
       "      <td>69895</td>\n",
       "      <td>61474</td>\n",
       "    </tr>\n",
       "    <tr>\n",
       "      <th>1</th>\n",
       "      <td>HW-2</td>\n",
       "      <td>97263</td>\n",
       "      <td>113263</td>\n",
       "    </tr>\n",
       "    <tr>\n",
       "      <th>2</th>\n",
       "      <td>HW-3</td>\n",
       "      <td>52211</td>\n",
       "      <td>84211</td>\n",
       "    </tr>\n",
       "    <tr>\n",
       "      <th>3</th>\n",
       "      <td>HW-4</td>\n",
       "      <td>52632</td>\n",
       "      <td>95579</td>\n",
       "    </tr>\n",
       "    <tr>\n",
       "      <th>4</th>\n",
       "      <td>HW-5</td>\n",
       "      <td>66947</td>\n",
       "      <td>98947</td>\n",
       "    </tr>\n",
       "  </tbody>\n",
       "</table>\n",
       "</div>"
      ],
      "text/plain": [
       "    cat      x       y\n",
       "0  HW-1  69895   61474\n",
       "1  HW-2  97263  113263\n",
       "2  HW-3  52211   84211\n",
       "3  HW-4  52632   95579\n",
       "4  HW-5  66947   98947"
      ]
     },
     "execution_count": 3,
     "metadata": {},
     "output_type": "execute_result"
    }
   ],
   "source": [
    "### create coords dataframe\n",
    "\n",
    "path = \"data/raw/COSTA Well Heads.prn\" \n",
    "data1 = pd.read_csv(path, sep=\"\\s+\")\n",
    "print(data1.shape)\n",
    "\n",
    "rename_dict = {\"Well\": \"cat\"}\n",
    "data1.rename(columns=rename_dict, inplace=True)\n",
    "\n",
    "data1.columns = [col.lower() for col in data1.columns]\n",
    "\n",
    "data1.drop(columns=[\"kb\", \"td\"], inplace=True)\n",
    "\n",
    "print(data1.shape)\n",
    "data1.head()"
   ]
  },
  {
   "cell_type": "code",
   "execution_count": 4,
   "metadata": {},
   "outputs": [
    {
     "name": "stdout",
     "output_type": "stream",
     "text": [
      "(472, 3)\n"
     ]
    },
    {
     "data": {
      "text/html": [
       "<div>\n",
       "<style scoped>\n",
       "    .dataframe tbody tr th:only-of-type {\n",
       "        vertical-align: middle;\n",
       "    }\n",
       "\n",
       "    .dataframe tbody tr th {\n",
       "        vertical-align: top;\n",
       "    }\n",
       "\n",
       "    .dataframe thead th {\n",
       "        text-align: right;\n",
       "    }\n",
       "</style>\n",
       "<table border=\"1\" class=\"dataframe\">\n",
       "  <thead>\n",
       "    <tr style=\"text-align: right;\">\n",
       "      <th></th>\n",
       "      <th>cat</th>\n",
       "      <th>x</th>\n",
       "      <th>y</th>\n",
       "    </tr>\n",
       "  </thead>\n",
       "  <tbody>\n",
       "    <tr>\n",
       "      <th>0</th>\n",
       "      <td>hw-1</td>\n",
       "      <td>69895.0</td>\n",
       "      <td>61474.0</td>\n",
       "    </tr>\n",
       "    <tr>\n",
       "      <th>1</th>\n",
       "      <td>hw-2</td>\n",
       "      <td>97263.0</td>\n",
       "      <td>113263.0</td>\n",
       "    </tr>\n",
       "    <tr>\n",
       "      <th>2</th>\n",
       "      <td>hw-3</td>\n",
       "      <td>52211.0</td>\n",
       "      <td>84211.0</td>\n",
       "    </tr>\n",
       "    <tr>\n",
       "      <th>3</th>\n",
       "      <td>hw-4</td>\n",
       "      <td>52632.0</td>\n",
       "      <td>95579.0</td>\n",
       "    </tr>\n",
       "    <tr>\n",
       "      <th>4</th>\n",
       "      <td>hw-5</td>\n",
       "      <td>66947.0</td>\n",
       "      <td>98947.0</td>\n",
       "    </tr>\n",
       "  </tbody>\n",
       "</table>\n",
       "</div>"
      ],
      "text/plain": [
       "    cat        x         y\n",
       "0  hw-1  69895.0   61474.0\n",
       "1  hw-2  97263.0  113263.0\n",
       "2  hw-3  52211.0   84211.0\n",
       "3  hw-4  52632.0   95579.0\n",
       "4  hw-5  66947.0   98947.0"
      ]
     },
     "execution_count": 4,
     "metadata": {},
     "output_type": "execute_result"
    }
   ],
   "source": [
    "### concat coords dataframes\n",
    "\n",
    "df = pd.concat([data1, data])\n",
    "df[\"cat\"] = df[\"cat\"].str.lower()\n",
    "\n",
    "print(df.shape)\n",
    "\n",
    "df.to_csv('data/costa/coords_costa.csv', index=False)\n",
    "\n",
    "df.head()"
   ]
  },
  {
   "cell_type": "code",
   "execution_count": 5,
   "metadata": {},
   "outputs": [
    {
     "name": "stdout",
     "output_type": "stream",
     "text": [
      "Appraisal Wells (6120, 9)\n",
      "Production Wells (47868, 9)\n",
      "Peripheral Water Injectors (22272, 5)\n",
      "Infill Water Injectors (16860, 5)\n",
      "(93120, 9)\n"
     ]
    },
    {
     "data": {
      "text/html": [
       "<div>\n",
       "<style scoped>\n",
       "    .dataframe tbody tr th:only-of-type {\n",
       "        vertical-align: middle;\n",
       "    }\n",
       "\n",
       "    .dataframe tbody tr th {\n",
       "        vertical-align: top;\n",
       "    }\n",
       "\n",
       "    .dataframe thead th {\n",
       "        text-align: right;\n",
       "    }\n",
       "</style>\n",
       "<table border=\"1\" class=\"dataframe\">\n",
       "  <thead>\n",
       "    <tr style=\"text-align: right;\">\n",
       "      <th></th>\n",
       "      <th>cat</th>\n",
       "      <th>date</th>\n",
       "      <th>gor</th>\n",
       "      <th>gas</th>\n",
       "      <th>oil</th>\n",
       "      <th>watercut</th>\n",
       "      <th>water</th>\n",
       "      <th>bhp</th>\n",
       "      <th>group</th>\n",
       "    </tr>\n",
       "  </thead>\n",
       "  <tbody>\n",
       "    <tr>\n",
       "      <th>0</th>\n",
       "      <td>hw-3</td>\n",
       "      <td>2020-02-01</td>\n",
       "      <td>731.414978</td>\n",
       "      <td>3.660375e+06</td>\n",
       "      <td>5004.512533</td>\n",
       "      <td>0.000043</td>\n",
       "      <td>0.002136</td>\n",
       "      <td>3274.055729</td>\n",
       "      <td>P</td>\n",
       "    </tr>\n",
       "    <tr>\n",
       "      <th>1</th>\n",
       "      <td>hw-3</td>\n",
       "      <td>2020-03-01</td>\n",
       "      <td>731.414978</td>\n",
       "      <td>3.782299e+06</td>\n",
       "      <td>5171.207386</td>\n",
       "      <td>0.000022</td>\n",
       "      <td>0.001117</td>\n",
       "      <td>3237.286417</td>\n",
       "      <td>P</td>\n",
       "    </tr>\n",
       "    <tr>\n",
       "      <th>2</th>\n",
       "      <td>hw-3</td>\n",
       "      <td>2020-04-01</td>\n",
       "      <td>731.414978</td>\n",
       "      <td>3.571577e+06</td>\n",
       "      <td>4883.105894</td>\n",
       "      <td>0.000014</td>\n",
       "      <td>0.000673</td>\n",
       "      <td>3221.117826</td>\n",
       "      <td>P</td>\n",
       "    </tr>\n",
       "    <tr>\n",
       "      <th>3</th>\n",
       "      <td>hw-3</td>\n",
       "      <td>2020-05-01</td>\n",
       "      <td>731.414978</td>\n",
       "      <td>3.653935e+06</td>\n",
       "      <td>4995.706858</td>\n",
       "      <td>0.000044</td>\n",
       "      <td>0.002196</td>\n",
       "      <td>3196.397707</td>\n",
       "      <td>P</td>\n",
       "    </tr>\n",
       "    <tr>\n",
       "      <th>4</th>\n",
       "      <td>hw-3</td>\n",
       "      <td>2020-06-01</td>\n",
       "      <td>731.414978</td>\n",
       "      <td>3.611093e+06</td>\n",
       "      <td>4937.133294</td>\n",
       "      <td>0.000101</td>\n",
       "      <td>0.004971</td>\n",
       "      <td>3187.041537</td>\n",
       "      <td>P</td>\n",
       "    </tr>\n",
       "  </tbody>\n",
       "</table>\n",
       "</div>"
      ],
      "text/plain": [
       "    cat       date         gor           gas          oil  watercut     water  \\\n",
       "0  hw-3 2020-02-01  731.414978  3.660375e+06  5004.512533  0.000043  0.002136   \n",
       "1  hw-3 2020-03-01  731.414978  3.782299e+06  5171.207386  0.000022  0.001117   \n",
       "2  hw-3 2020-04-01  731.414978  3.571577e+06  4883.105894  0.000014  0.000673   \n",
       "3  hw-3 2020-05-01  731.414978  3.653935e+06  4995.706858  0.000044  0.002196   \n",
       "4  hw-3 2020-06-01  731.414978  3.611093e+06  4937.133294  0.000101  0.004971   \n",
       "\n",
       "           bhp group  \n",
       "0  3274.055729     P  \n",
       "1  3237.286417     P  \n",
       "2  3221.117826     P  \n",
       "3  3196.397707     P  \n",
       "4  3187.041537     P  "
      ]
     },
     "execution_count": 5,
     "metadata": {},
     "output_type": "execute_result"
    }
   ],
   "source": [
    "### load appraisal well data\n",
    "\n",
    "path = \"data/raw/COSTA Synthetic Production Monthly.xlsx\"\n",
    "\n",
    "data = pd.DataFrame()\n",
    "\n",
    "# concat sheets\n",
    "sheet_names = [\n",
    "    \"Appraisal Wells\",\n",
    "    \"Production Wells\",\n",
    "    \"Peripheral Water Injectors\",\n",
    "    \"Infill Water Injectors\",\n",
    "]\n",
    "\n",
    "for sheet_name in sheet_names:\n",
    "    \n",
    "    df = pd.read_excel(path, sheet_name=sheet_name, header=4)\n",
    "    df[\"group\"] = sheet_name\n",
    "    df.dropna(axis=1, how=\"all\", inplace=True)\n",
    "    \n",
    "    print(sheet_name, df.shape)\n",
    "\n",
    "    data = pd.concat([data, df], ignore_index=True)\n",
    "\n",
    "# rename columns\n",
    "rename_dict = {\n",
    "    \"well\": \"cat\", \n",
    "    \"gas oil ratio sc (ft³/bbl)\": \"gor\",\n",
    "    \"gas rate sc - monthly (ft³/day)\": \"gas\",\n",
    "    \"oil rate sc - monthly (bbl/day)\": \"oil\",\n",
    "    \"water cut sc - %\": \"watercut\",\n",
    "    \"water rate sc - monthly (bbl/day)\": \"water\",\n",
    "    \"well bottom-hole pressure (psi)\": 'bhp'\n",
    "    }\n",
    "data.columns = [col.lower() for col in data.columns]\n",
    "data.rename(columns=rename_dict, inplace=True)\n",
    "\n",
    "# rename data in \"cat\" and \"group\"\n",
    "data[\"cat\"] = data[\"cat\"].str.lower()\n",
    "dictionary = {\n",
    "    \"Appraisal Wells\": \"P\",\n",
    "    \"Production Wells\": \"P\",\n",
    "    \"Peripheral Water Injectors\": \"I\",\n",
    "    \"Infill Water Injectors\": \"I\",\n",
    "}\n",
    "data[\"group\"] = data[\"group\"].map(dictionary)\n",
    "\n",
    "print(data.shape)\n",
    "data.head()"
   ]
  },
  {
   "cell_type": "code",
   "execution_count": 6,
   "metadata": {},
   "outputs": [
    {
     "data": {
      "text/html": [
       "<div>\n",
       "<style scoped>\n",
       "    .dataframe tbody tr th:only-of-type {\n",
       "        vertical-align: middle;\n",
       "    }\n",
       "\n",
       "    .dataframe tbody tr th {\n",
       "        vertical-align: top;\n",
       "    }\n",
       "\n",
       "    .dataframe thead th {\n",
       "        text-align: right;\n",
       "    }\n",
       "</style>\n",
       "<table border=\"1\" class=\"dataframe\">\n",
       "  <thead>\n",
       "    <tr style=\"text-align: right;\">\n",
       "      <th></th>\n",
       "      <th>cat</th>\n",
       "      <th>date</th>\n",
       "      <th>gor</th>\n",
       "      <th>gas</th>\n",
       "      <th>oil</th>\n",
       "      <th>watercut</th>\n",
       "      <th>water</th>\n",
       "      <th>bhp</th>\n",
       "      <th>group</th>\n",
       "      <th>water_inj</th>\n",
       "      <th>bhp_inj</th>\n",
       "    </tr>\n",
       "  </thead>\n",
       "  <tbody>\n",
       "    <tr>\n",
       "      <th>0</th>\n",
       "      <td>hw-3</td>\n",
       "      <td>2020-02-01</td>\n",
       "      <td>731.414978</td>\n",
       "      <td>3.660375e+06</td>\n",
       "      <td>5004.512533</td>\n",
       "      <td>0.000043</td>\n",
       "      <td>0.002136</td>\n",
       "      <td>3274.055729</td>\n",
       "      <td>P</td>\n",
       "      <td>NaN</td>\n",
       "      <td>NaN</td>\n",
       "    </tr>\n",
       "    <tr>\n",
       "      <th>1</th>\n",
       "      <td>hw-3</td>\n",
       "      <td>2020-03-01</td>\n",
       "      <td>731.414978</td>\n",
       "      <td>3.782299e+06</td>\n",
       "      <td>5171.207386</td>\n",
       "      <td>0.000022</td>\n",
       "      <td>0.001117</td>\n",
       "      <td>3237.286417</td>\n",
       "      <td>P</td>\n",
       "      <td>NaN</td>\n",
       "      <td>NaN</td>\n",
       "    </tr>\n",
       "    <tr>\n",
       "      <th>2</th>\n",
       "      <td>hw-3</td>\n",
       "      <td>2020-04-01</td>\n",
       "      <td>731.414978</td>\n",
       "      <td>3.571577e+06</td>\n",
       "      <td>4883.105894</td>\n",
       "      <td>0.000014</td>\n",
       "      <td>0.000673</td>\n",
       "      <td>3221.117826</td>\n",
       "      <td>P</td>\n",
       "      <td>NaN</td>\n",
       "      <td>NaN</td>\n",
       "    </tr>\n",
       "    <tr>\n",
       "      <th>3</th>\n",
       "      <td>hw-3</td>\n",
       "      <td>2020-05-01</td>\n",
       "      <td>731.414978</td>\n",
       "      <td>3.653935e+06</td>\n",
       "      <td>4995.706858</td>\n",
       "      <td>0.000044</td>\n",
       "      <td>0.002196</td>\n",
       "      <td>3196.397707</td>\n",
       "      <td>P</td>\n",
       "      <td>NaN</td>\n",
       "      <td>NaN</td>\n",
       "    </tr>\n",
       "    <tr>\n",
       "      <th>4</th>\n",
       "      <td>hw-3</td>\n",
       "      <td>2020-06-01</td>\n",
       "      <td>731.414978</td>\n",
       "      <td>3.611093e+06</td>\n",
       "      <td>4937.133294</td>\n",
       "      <td>0.000101</td>\n",
       "      <td>0.004971</td>\n",
       "      <td>3187.041537</td>\n",
       "      <td>P</td>\n",
       "      <td>NaN</td>\n",
       "      <td>NaN</td>\n",
       "    </tr>\n",
       "  </tbody>\n",
       "</table>\n",
       "</div>"
      ],
      "text/plain": [
       "    cat       date         gor           gas          oil  watercut     water  \\\n",
       "0  hw-3 2020-02-01  731.414978  3.660375e+06  5004.512533  0.000043  0.002136   \n",
       "1  hw-3 2020-03-01  731.414978  3.782299e+06  5171.207386  0.000022  0.001117   \n",
       "2  hw-3 2020-04-01  731.414978  3.571577e+06  4883.105894  0.000014  0.000673   \n",
       "3  hw-3 2020-05-01  731.414978  3.653935e+06  4995.706858  0.000044  0.002196   \n",
       "4  hw-3 2020-06-01  731.414978  3.611093e+06  4937.133294  0.000101  0.004971   \n",
       "\n",
       "           bhp group  water_inj  bhp_inj  \n",
       "0  3274.055729     P        NaN      NaN  \n",
       "1  3237.286417     P        NaN      NaN  \n",
       "2  3221.117826     P        NaN      NaN  \n",
       "3  3196.397707     P        NaN      NaN  \n",
       "4  3187.041537     P        NaN      NaN  "
      ]
     },
     "metadata": {},
     "output_type": "display_data"
    },
    {
     "data": {
      "text/html": [
       "<div>\n",
       "<style scoped>\n",
       "    .dataframe tbody tr th:only-of-type {\n",
       "        vertical-align: middle;\n",
       "    }\n",
       "\n",
       "    .dataframe tbody tr th {\n",
       "        vertical-align: top;\n",
       "    }\n",
       "\n",
       "    .dataframe thead th {\n",
       "        text-align: right;\n",
       "    }\n",
       "</style>\n",
       "<table border=\"1\" class=\"dataframe\">\n",
       "  <thead>\n",
       "    <tr style=\"text-align: right;\">\n",
       "      <th></th>\n",
       "      <th>cat</th>\n",
       "      <th>date</th>\n",
       "      <th>gor</th>\n",
       "      <th>gas</th>\n",
       "      <th>oil</th>\n",
       "      <th>watercut</th>\n",
       "      <th>water</th>\n",
       "      <th>bhp</th>\n",
       "      <th>group</th>\n",
       "      <th>water_inj</th>\n",
       "      <th>bhp_inj</th>\n",
       "    </tr>\n",
       "  </thead>\n",
       "  <tbody>\n",
       "    <tr>\n",
       "      <th>93115</th>\n",
       "      <td>inj-1</td>\n",
       "      <td>2049-09-01</td>\n",
       "      <td>NaN</td>\n",
       "      <td>NaN</td>\n",
       "      <td>NaN</td>\n",
       "      <td>NaN</td>\n",
       "      <td>NaN</td>\n",
       "      <td>NaN</td>\n",
       "      <td>I</td>\n",
       "      <td>3857.710393</td>\n",
       "      <td>5999.158295</td>\n",
       "    </tr>\n",
       "    <tr>\n",
       "      <th>93116</th>\n",
       "      <td>inj-1</td>\n",
       "      <td>2049-10-01</td>\n",
       "      <td>NaN</td>\n",
       "      <td>NaN</td>\n",
       "      <td>NaN</td>\n",
       "      <td>NaN</td>\n",
       "      <td>NaN</td>\n",
       "      <td>NaN</td>\n",
       "      <td>I</td>\n",
       "      <td>3978.273737</td>\n",
       "      <td>5996.573474</td>\n",
       "    </tr>\n",
       "    <tr>\n",
       "      <th>93117</th>\n",
       "      <td>inj-1</td>\n",
       "      <td>2049-11-01</td>\n",
       "      <td>NaN</td>\n",
       "      <td>NaN</td>\n",
       "      <td>NaN</td>\n",
       "      <td>NaN</td>\n",
       "      <td>NaN</td>\n",
       "      <td>NaN</td>\n",
       "      <td>I</td>\n",
       "      <td>3887.219777</td>\n",
       "      <td>5998.165805</td>\n",
       "    </tr>\n",
       "    <tr>\n",
       "      <th>93118</th>\n",
       "      <td>inj-1</td>\n",
       "      <td>2049-12-01</td>\n",
       "      <td>NaN</td>\n",
       "      <td>NaN</td>\n",
       "      <td>NaN</td>\n",
       "      <td>NaN</td>\n",
       "      <td>NaN</td>\n",
       "      <td>NaN</td>\n",
       "      <td>I</td>\n",
       "      <td>3879.914298</td>\n",
       "      <td>5994.492545</td>\n",
       "    </tr>\n",
       "    <tr>\n",
       "      <th>93119</th>\n",
       "      <td>inj-1</td>\n",
       "      <td>2050-01-01</td>\n",
       "      <td>NaN</td>\n",
       "      <td>NaN</td>\n",
       "      <td>NaN</td>\n",
       "      <td>NaN</td>\n",
       "      <td>NaN</td>\n",
       "      <td>NaN</td>\n",
       "      <td>I</td>\n",
       "      <td>3883.366937</td>\n",
       "      <td>6006.929710</td>\n",
       "    </tr>\n",
       "  </tbody>\n",
       "</table>\n",
       "</div>"
      ],
      "text/plain": [
       "         cat       date  gor  gas  oil  watercut  water  bhp group  \\\n",
       "93115  inj-1 2049-09-01  NaN  NaN  NaN       NaN    NaN  NaN     I   \n",
       "93116  inj-1 2049-10-01  NaN  NaN  NaN       NaN    NaN  NaN     I   \n",
       "93117  inj-1 2049-11-01  NaN  NaN  NaN       NaN    NaN  NaN     I   \n",
       "93118  inj-1 2049-12-01  NaN  NaN  NaN       NaN    NaN  NaN     I   \n",
       "93119  inj-1 2050-01-01  NaN  NaN  NaN       NaN    NaN  NaN     I   \n",
       "\n",
       "         water_inj      bhp_inj  \n",
       "93115  3857.710393  5999.158295  \n",
       "93116  3978.273737  5996.573474  \n",
       "93117  3887.219777  5998.165805  \n",
       "93118  3879.914298  5994.492545  \n",
       "93119  3883.366937  6006.929710  "
      ]
     },
     "metadata": {},
     "output_type": "display_data"
    }
   ],
   "source": [
    "data[\"water_inj\"] = np.where(data[\"group\"] == \"I\", data[\"water\"], np.nan)\n",
    "data[\"water\"] = np.where(data[\"group\"] == \"P\", data[\"water\"], np.nan)\n",
    "\n",
    "data[\"bhp_inj\"] = np.where(data[\"group\"] == \"I\", data[\"bhp\"], np.nan)\n",
    "data[\"bhp\"] = np.where(data[\"group\"] == \"P\", data[\"bhp\"], np.nan)\n",
    "\n",
    "display(data.head())\n",
    "display(data.tail())"
   ]
  },
  {
   "cell_type": "code",
   "execution_count": 7,
   "metadata": {},
   "outputs": [],
   "source": [
    "path = \"data/costa/data_costa.csv\"\n",
    "data.to_csv(path, index=False)"
   ]
  },
  {
   "cell_type": "code",
   "execution_count": 8,
   "metadata": {},
   "outputs": [
    {
     "data": {
      "text/plain": [
       "<Axes: >"
      ]
     },
     "execution_count": 8,
     "metadata": {},
     "output_type": "execute_result"
    },
    {
     "data": {
      "image/png": "[encoded data removed]",
      "text/plain": [
       "<Figure size 1500x1500 with 1 Axes>"
      ]
     },
     "metadata": {},
     "output_type": "display_data"
    }
   ],
   "source": [
    "import missingno as msno\n",
    "\n",
    "# Визуализируем матрицу Missingno\n",
    "msno.matrix(data, sparkline=False, figsize=(15, 15))"
   ]
  },
  {
   "cell_type": "code",
   "execution_count": 9,
   "metadata": {},
   "outputs": [
    {
     "name": "stdout",
     "output_type": "stream",
     "text": [
      "test shape: (10728, 11)\n"
     ]
    }
   ],
   "source": [
    "test = data[data[\"date\"] >= \"2048-02-01\"].copy()\n",
    "print(\"test shape:\", test.shape)\n",
    "\n",
    "path = \"data/costa/test_org.csv\"\n",
    "test.to_csv(path, index=False)"
   ]
  },
  {
   "cell_type": "code",
   "execution_count": 10,
   "metadata": {},
   "outputs": [],
   "source": [
    "for col in [\"gor\", \"gas\", \"oil\", \"watercut\", \"water\", \"bhp\"]:\n",
    "    data[col] = np.where(data[\"date\"] < \"2048-02-01\", data[col], np.nan)"
   ]
  },
  {
   "cell_type": "code",
   "execution_count": 11,
   "metadata": {},
   "outputs": [
    {
     "data": {
      "text/plain": [
       "<Axes: >"
      ]
     },
     "execution_count": 11,
     "metadata": {},
     "output_type": "execute_result"
    },
    {
     "data": {
      "image/png": "[encoded data removed]",
      "text/plain": [
       "<Figure size 1500x1500 with 1 Axes>"
      ]
     },
     "metadata": {},
     "output_type": "display_data"
    }
   ],
   "source": [
    "msno.matrix(data, sparkline=False, figsize=(15, 15))"
   ]
  },
  {
   "cell_type": "code",
   "execution_count": 12,
   "metadata": {},
   "outputs": [
    {
     "name": "stdout",
     "output_type": "stream",
     "text": [
      "train shape: (82392, 11)\n"
     ]
    }
   ],
   "source": [
    "train = data[data[\"date\"] < \"2048-02-01\"].copy()\n",
    "print(\"train shape:\", train.shape)\n",
    "\n",
    "path = \"data/costa/train.csv\"\n",
    "\n",
    "train.to_csv(path, index=False)"
   ]
  },
  {
   "cell_type": "code",
   "execution_count": 13,
   "metadata": {},
   "outputs": [
    {
     "name": "stdout",
     "output_type": "stream",
     "text": [
      "test shape: (10728, 11)\n"
     ]
    }
   ],
   "source": [
    "test = data[data[\"date\"] >= \"2048-02-01\"].copy()\n",
    "print(\"test shape:\", test.shape)\n",
    "\n",
    "path = \"data/costa/test.csv\"\n",
    "\n",
    "test.to_csv(path, index=False)"
   ]
  },
  {
   "cell_type": "code",
   "execution_count": null,
   "metadata": {},
   "outputs": [],
   "source": []
  }
 ],
 "metadata": {
  "kernelspec": {
   "display_name": "base",
   "language": "python",
   "name": "python3"
  },
  "language_info": {
   "codemirror_mode": {
    "name": "ipython",
    "version": 3
   },
   "file_extension": ".py",
   "mimetype": "text/x-python",
   "name": "python",
   "nbconvert_exporter": "python",
   "pygments_lexer": "ipython3",
   "version": "3.11.4"
  },
  "vscode": {
   "interpreter": {
    "hash": "596323ea7aca3050b0d14c0a05576a1d90db4e3c06d52df965d632d5817faf48"
   }
  }
 },
 "nbformat": 4,
 "nbformat_minor": 4
}
